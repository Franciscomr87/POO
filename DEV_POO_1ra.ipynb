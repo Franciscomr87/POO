{
  "nbformat": 4,
  "nbformat_minor": 0,
  "metadata": {
    "colab": {
      "name": "DEV-POO-1ra",
      "provenance": [],
      "collapsed_sections": [],
      "authorship_tag": "ABX9TyMdlQMsrdL496rFfo5SSOxB",
      "include_colab_link": true
    },
    "kernelspec": {
      "name": "python3",
      "display_name": "Python 3"
    },
    "language_info": {
      "name": "python"
    }
  },
  "cells": [
    {
      "cell_type": "markdown",
      "metadata": {
        "id": "view-in-github",
        "colab_type": "text"
      },
      "source": [
        "<a href=\"https://colab.research.google.com/github/Franciscomr87/POO/blob/main/DEV_POO_1ra.ipynb\" target=\"_parent\"><img src=\"https://colab.research.google.com/assets/colab-badge.svg\" alt=\"Open In Colab\"/></a>"
      ]
    },
    {
      "cell_type": "code",
      "execution_count": null,
      "metadata": {
        "id": "0eYxFEMSdvHi"
      },
      "outputs": [],
      "source": [
        "lista = [1,2,3,4,5]"
      ]
    },
    {
      "cell_type": "code",
      "source": [
        "type('')"
      ],
      "metadata": {
        "colab": {
          "base_uri": "https://localhost:8080/"
        },
        "id": "fs08GeOWezag",
        "outputId": "ae88242a-eb36-46f4-935a-0c9d49e45721"
      },
      "execution_count": null,
      "outputs": [
        {
          "output_type": "execute_result",
          "data": {
            "text/plain": [
              "str"
            ]
          },
          "metadata": {},
          "execution_count": 2
        }
      ]
    },
    {
      "cell_type": "code",
      "source": [
        "class GameCharacter:\n",
        "    pass"
      ],
      "metadata": {
        "id": "fz9MIP9fe3wj"
      },
      "execution_count": null,
      "outputs": []
    },
    {
      "cell_type": "code",
      "source": [
        "geralt = GameCharacter()"
      ],
      "metadata": {
        "id": "AtxFuuTpfA4T"
      },
      "execution_count": null,
      "outputs": []
    },
    {
      "cell_type": "code",
      "source": [
        "class Lawyer:\n",
        "    \n",
        "    # Frist define class attributes (properties)\n",
        "    weight = 78 \n",
        "    hair_color = 'Blonde'\n",
        "    height = 187\n",
        "    name = 'Harvey'\n",
        "    frase = 'Hello , Life is like this and I like top'\n",
        "    \n",
        "    # Define a method (function) for printing characters' names\n",
        "    def say(self):\n",
        "        print(f'Hello , My name is {self.name}')\n",
        "        return self.name\n",
        "\n",
        "# Object Creation\n",
        "harvey = Lawyer()"
      ],
      "metadata": {
        "id": "Cuh0wCWCfn8P"
      },
      "execution_count": null,
      "outputs": []
    },
    {
      "cell_type": "code",
      "source": [
        "print(\"Harvey's Name:\" , harvey.name)"
      ],
      "metadata": {
        "colab": {
          "base_uri": "https://localhost:8080/"
        },
        "id": "KLOWYDEliEkN",
        "outputId": "03b15c14-5794-468e-bdff-b5368af61297"
      },
      "execution_count": null,
      "outputs": [
        {
          "output_type": "stream",
          "name": "stdout",
          "text": [
            "Harvey's Name: Harvey\n"
          ]
        }
      ]
    },
    {
      "cell_type": "code",
      "source": [
        "print(\"Harvey's weight:\" , harvey.weight)"
      ],
      "metadata": {
        "colab": {
          "base_uri": "https://localhost:8080/"
        },
        "id": "2he77CNKiaUm",
        "outputId": "394442ba-d007-4f2f-d792-5abc9f1603d9"
      },
      "execution_count": null,
      "outputs": [
        {
          "output_type": "stream",
          "name": "stdout",
          "text": [
            "Harvey's weight: 78\n"
          ]
        }
      ]
    },
    {
      "cell_type": "code",
      "source": [
        "print(\"Harvey is Saying: \", harvey.say())"
      ],
      "metadata": {
        "colab": {
          "base_uri": "https://localhost:8080/"
        },
        "id": "s3HSSdCjjdJC",
        "outputId": "be043a04-210c-4a7a-b126-3fbd49b6be1c"
      },
      "execution_count": null,
      "outputs": [
        {
          "output_type": "stream",
          "name": "stdout",
          "text": [
            "Hello , My name is Harvey\n",
            "Harvey is Saying:  Harvey\n"
          ]
        }
      ]
    },
    {
      "cell_type": "markdown",
      "source": [
        ""
      ],
      "metadata": {
        "id": "NLBnLF34ANrx"
      }
    },
    {
      "cell_type": "code",
      "source": [
        "print(\"Harvey's frase:\" , harvey.frase )"
      ],
      "metadata": {
        "colab": {
          "base_uri": "https://localhost:8080/"
        },
        "id": "m8gq03bnm5Ce",
        "outputId": "321b729e-1537-4233-a0a8-e714e79f7f73"
      },
      "execution_count": null,
      "outputs": [
        {
          "output_type": "stream",
          "name": "stdout",
          "text": [
            "Harvey's frase: Hello , Life is like this and I like top\n"
          ]
        }
      ]
    },
    {
      "cell_type": "code",
      "source": [
        "class Lawyer:\n",
        "    \n",
        "    # Define the constructor\n",
        "    def __init__(self, name, hair_color, height):\n",
        "        self.name = name\n",
        "        self.hair_color = hair_color\n",
        "        self.height = height\n",
        "        \n",
        "    # Define 2 main methods for greeting and saying good bye  \n",
        "    def greeting(self):\n",
        "        return f'I am glad to see you Harvey , my name is {self.name}'\n",
        "        \n",
        "    def farewell(self):\n",
        "        return 'Farewell'\n",
        "\n",
        "# Define Colab Class (child class)\n",
        "# Let's create a method signs_ability that prints which signs the Colab has\n",
        "class Colab(Lawyer):\n",
        "    \n",
        "    # No need for constructor because it is being inherited from the parental class.\n",
        "    # Define a unique method. Only the Colabs have sign abilities\n",
        "    def signs_ability(self):\n",
        "        signs = ['Dona','Mike','Louis','Rachel','Robert']\n",
        "        return signs\n",
        "\n",
        "# Create a new object \n",
        "Louis = Colab(name = 'Louis', hair_color = 'black', height = 170)\n",
        "Dona = Colab(name = 'Dona', hair_color = 'red', height = 175)\n",
        "Mike = Colab(name = 'Mike', hair_color = 'blond', height = 178)\n",
        "\n",
        "# Now Louis belongs to Colab Class as well as Lawyer class\n",
        "# Let's get info about signs\n",
        "print(Louis.signs_ability())\n",
        "\n",
        "# Accessing other attributes from the parental class \n",
        "print(\"Louis's Name: \", Louis.name)\n",
        "print(Louis.greeting())"
      ],
      "metadata": {
        "colab": {
          "base_uri": "https://localhost:8080/"
        },
        "id": "hQ_-13VnosD8",
        "outputId": "3db3ee1e-538d-4f4f-d51b-ccfaf5aa5529"
      },
      "execution_count": null,
      "outputs": [
        {
          "output_type": "stream",
          "name": "stdout",
          "text": [
            "['Dona', 'Mike', 'Louis', 'Rachel', 'Robert']\n",
            "Louis's Name:  Louis\n",
            "I am glad to see you Harvey , my name is Louis\n"
          ]
        }
      ]
    },
    {
      "cell_type": "code",
      "source": [
        "print(\"Dona's Name: \", Dona.name)"
      ],
      "metadata": {
        "colab": {
          "base_uri": "https://localhost:8080/"
        },
        "id": "9fAhF2aDrZ4y",
        "outputId": "fa40ced5-504f-4363-f99b-a1d4911e4d03"
      },
      "execution_count": null,
      "outputs": [
        {
          "output_type": "stream",
          "name": "stdout",
          "text": [
            "Dona's Name:  Dona\n"
          ]
        }
      ]
    },
    {
      "cell_type": "code",
      "source": [
        "print(Dona.greeting())"
      ],
      "metadata": {
        "colab": {
          "base_uri": "https://localhost:8080/"
        },
        "id": "lD8c8yQ0sT0g",
        "outputId": "b9369349-1365-465a-dce9-bb6946710ccc"
      },
      "execution_count": null,
      "outputs": [
        {
          "output_type": "stream",
          "name": "stdout",
          "text": [
            "I am glad to see you Harvey , my name is Dona\n"
          ]
        }
      ]
    },
    {
      "cell_type": "code",
      "source": [
        ""
      ],
      "metadata": {
        "id": "G-VFyCossTyz"
      },
      "execution_count": null,
      "outputs": []
    }
  ]
}