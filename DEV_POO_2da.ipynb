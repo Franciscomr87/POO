{
  "nbformat": 4,
  "nbformat_minor": 0,
  "metadata": {
    "colab": {
      "name": "DEV-POO-2da",
      "provenance": [],
      "collapsed_sections": [],
      "authorship_tag": "ABX9TyMXsp0enJl2UcKnHqrmqD2l",
      "include_colab_link": true
    },
    "kernelspec": {
      "name": "python3",
      "display_name": "Python 3"
    },
    "language_info": {
      "name": "python"
    }
  },
  "cells": [
    {
      "cell_type": "markdown",
      "metadata": {
        "id": "view-in-github",
        "colab_type": "text"
      },
      "source": [
        "<a href=\"https://colab.research.google.com/github/Franciscomr87/POO/blob/main/DEV_POO_2da.ipynb\" target=\"_parent\"><img src=\"https://colab.research.google.com/assets/colab-badge.svg\" alt=\"Open In Colab\"/></a>"
      ]
    },
    {
      "cell_type": "code",
      "execution_count": null,
      "metadata": {
        "colab": {
          "base_uri": "https://localhost:8080/"
        },
        "id": "dyqqgEAOPd9l",
        "outputId": "d31f9541-3510-4091-d1dc-5dea00da5a9e"
      },
      "outputs": [
        {
          "output_type": "stream",
          "name": "stdout",
          "text": [
            "b no es más grande que a\n"
          ]
        }
      ],
      "source": [
        "a = 150\n",
        "b = 33\n",
        "if a < b:\n",
        "  print(\"b es más grande que a\")\n",
        "elif b==a:\n",
        "  print(\"b es exactamente igual a a\") \n",
        "else:\n",
        "  print(\"b no es más grande que a\")"
      ]
    },
    {
      "cell_type": "code",
      "source": [
        "print (a)"
      ],
      "metadata": {
        "colab": {
          "base_uri": "https://localhost:8080/"
        },
        "id": "GfnrZnu8Qc14",
        "outputId": "28fb3346-9b22-4b3f-adf0-958613b5d0cd"
      },
      "execution_count": null,
      "outputs": [
        {
          "output_type": "stream",
          "name": "stdout",
          "text": [
            "200\n"
          ]
        }
      ]
    },
    {
      "cell_type": "code",
      "source": [
        "if a > b: print(\"a es mayor que b\")"
      ],
      "metadata": {
        "colab": {
          "base_uri": "https://localhost:8080/"
        },
        "id": "OVpuK6UrQYcn",
        "outputId": "9589590c-38f7-4588-e115-1d20278a9d3b"
      },
      "execution_count": null,
      "outputs": [
        {
          "output_type": "stream",
          "name": "stdout",
          "text": [
            "a es mayor que b\n"
          ]
        }
      ]
    },
    {
      "cell_type": "code",
      "source": [
        "name = \"Charmander\"\n",
        "strenght = 23\n",
        "if name == \"Charmander\" and strenght == 23:\n",
        "  print(\"Tu nombre es Charmander, y tienes 23 de fuerza.\")"
      ],
      "metadata": {
        "colab": {
          "base_uri": "https://localhost:8080/"
        },
        "id": "kKZo7ox_UPWj",
        "outputId": "893cd1dc-3800-4619-f7b2-f3a134c7034d"
      },
      "execution_count": null,
      "outputs": [
        {
          "output_type": "stream",
          "name": "stdout",
          "text": [
            "Tu nombre es Charmander, y tienes 23 de fuerza.\n"
          ]
        }
      ]
    },
    {
      "cell_type": "code",
      "source": [
        "name = \"Dreamliner\"\n",
        "lenght = 23000\n",
        "if name == \"Dreamliner\" and lenght == 23000:\n",
        "  print(\"Tu nombre es Dreamliner, y tienes 23000 de lenght.\")"
      ],
      "metadata": {
        "colab": {
          "base_uri": "https://localhost:8080/"
        },
        "id": "UPtgvg7PUWie",
        "outputId": "afbe2ce3-3a9c-4c5d-b573-e1e2000e3454"
      },
      "execution_count": null,
      "outputs": [
        {
          "output_type": "stream",
          "name": "stdout",
          "text": [
            "Tu nombre es Dreamliner, y tienes 23000 de lenght.\n"
          ]
        }
      ]
    },
    {
      "cell_type": "code",
      "source": [
        "name = \"Charmander\"\n",
        "strenght = 23\n",
        "if name == \"Charmander\" and strenght == 23:\n",
        "  print(\"Tu nombre es Charmander, y tienes 23 de fuerza.\")"
      ],
      "metadata": {
        "colab": {
          "base_uri": "https://localhost:8080/"
        },
        "id": "bc5DlqbiVO2V",
        "outputId": "5abb9ef1-032d-41f2-a007-29e7720d2baa"
      },
      "execution_count": null,
      "outputs": [
        {
          "output_type": "stream",
          "name": "stdout",
          "text": [
            "Tu nombre es Charmander, y tienes 23 de fuerza.\n"
          ]
        }
      ]
    },
    {
      "cell_type": "code",
      "source": [
        "list1=[1,2,3,4,5, 'pika']\n",
        "list2=[6,7,8,9, 'pika']\n",
        "list3= list1+list2\n",
        "for item in list1:\n",
        "  if item in list2:\n",
        "    print(\"overlapping\")\n",
        "else:\n",
        "  print(\"not overlapping\")"
      ],
      "metadata": {
        "colab": {
          "base_uri": "https://localhost:8080/"
        },
        "id": "GFu55vR4YiNE",
        "outputId": "a7493051-d5d2-449f-8eca-49a2c8edcd64"
      },
      "execution_count": null,
      "outputs": [
        {
          "output_type": "stream",
          "name": "stdout",
          "text": [
            "overlapping\n",
            "not overlapping\n"
          ]
        }
      ]
    }
  ]
}