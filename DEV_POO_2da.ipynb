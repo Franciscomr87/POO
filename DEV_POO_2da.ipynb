{
  "nbformat": 4,
  "nbformat_minor": 0,
  "metadata": {
    "colab": {
      "name": "DEV-POO-2da",
      "provenance": [],
      "collapsed_sections": [],
      "authorship_tag": "ABX9TyNeCe93FZPiKfyWC/JZUsFf",
      "include_colab_link": true
    },
    "kernelspec": {
      "name": "python3",
      "display_name": "Python 3"
    },
    "language_info": {
      "name": "python"
    }
  },
  "cells": [
    {
      "cell_type": "markdown",
      "metadata": {
        "id": "view-in-github",
        "colab_type": "text"
      },
      "source": [
        "<a href=\"https://colab.research.google.com/github/Franciscomr87/POO/blob/main/DEV_POO_2da.ipynb\" target=\"_parent\"><img src=\"https://colab.research.google.com/assets/colab-badge.svg\" alt=\"Open In Colab\"/></a>"
      ]
    },
    {
      "cell_type": "code",
      "execution_count": null,
      "metadata": {
        "colab": {
          "base_uri": "https://localhost:8080/"
        },
        "id": "dyqqgEAOPd9l",
        "outputId": "d31f9541-3510-4091-d1dc-5dea00da5a9e"
      },
      "outputs": [
        {
          "output_type": "stream",
          "name": "stdout",
          "text": [
            "b no es más grande que a\n"
          ]
        }
      ],
      "source": [
        "a = 150\n",
        "b = 33\n",
        "if a < b:\n",
        "  print(\"b es más grande que a\")\n",
        "elif b==a:\n",
        "  print(\"b es exactamente igual a a\") \n",
        "else:\n",
        "  print(\"b no es más grande que a\")"
      ]
    },
    {
      "cell_type": "code",
      "source": [
        "print (a)"
      ],
      "metadata": {
        "colab": {
          "base_uri": "https://localhost:8080/"
        },
        "id": "GfnrZnu8Qc14",
        "outputId": "28fb3346-9b22-4b3f-adf0-958613b5d0cd"
      },
      "execution_count": null,
      "outputs": [
        {
          "output_type": "stream",
          "name": "stdout",
          "text": [
            "200\n"
          ]
        }
      ]
    },
    {
      "cell_type": "code",
      "source": [
        "if a > b: print(\"a es mayor que b\")"
      ],
      "metadata": {
        "colab": {
          "base_uri": "https://localhost:8080/"
        },
        "id": "OVpuK6UrQYcn",
        "outputId": "9589590c-38f7-4588-e115-1d20278a9d3b"
      },
      "execution_count": null,
      "outputs": [
        {
          "output_type": "stream",
          "name": "stdout",
          "text": [
            "a es mayor que b\n"
          ]
        }
      ]
    },
    {
      "cell_type": "code",
      "source": [
        "name = \"Charmander\"\n",
        "strenght = 23\n",
        "if name == \"Charmander\" and strenght == 23:\n",
        "  print(\"Tu nombre es Charmander, y tienes 23 de fuerza.\")"
      ],
      "metadata": {
        "colab": {
          "base_uri": "https://localhost:8080/"
        },
        "id": "kKZo7ox_UPWj",
        "outputId": "893cd1dc-3800-4619-f7b2-f3a134c7034d"
      },
      "execution_count": null,
      "outputs": [
        {
          "output_type": "stream",
          "name": "stdout",
          "text": [
            "Tu nombre es Charmander, y tienes 23 de fuerza.\n"
          ]
        }
      ]
    },
    {
      "cell_type": "code",
      "source": [
        "name = \"Dreamliner\"\n",
        "lenght = 23000\n",
        "if name == \"Dreamliner\" and lenght == 23000:\n",
        "  print(\"Tu nombre es Dreamliner, y tienes 23000 de lenght.\")"
      ],
      "metadata": {
        "colab": {
          "base_uri": "https://localhost:8080/"
        },
        "id": "UPtgvg7PUWie",
        "outputId": "afbe2ce3-3a9c-4c5d-b573-e1e2000e3454"
      },
      "execution_count": null,
      "outputs": [
        {
          "output_type": "stream",
          "name": "stdout",
          "text": [
            "Tu nombre es Dreamliner, y tienes 23000 de lenght.\n"
          ]
        }
      ]
    },
    {
      "cell_type": "code",
      "source": [
        "name = \"Charmander\"\n",
        "strenght = 23\n",
        "if name == \"Charmander\" and strenght == 23:\n",
        "  print(\"Tu nombre es Charmander, y tienes 23 de fuerza.\")"
      ],
      "metadata": {
        "colab": {
          "base_uri": "https://localhost:8080/"
        },
        "id": "bc5DlqbiVO2V",
        "outputId": "5abb9ef1-032d-41f2-a007-29e7720d2baa"
      },
      "execution_count": null,
      "outputs": [
        {
          "output_type": "stream",
          "name": "stdout",
          "text": [
            "Tu nombre es Charmander, y tienes 23 de fuerza.\n"
          ]
        }
      ]
    },
    {
      "cell_type": "code",
      "source": [
        "list1=[1,2,3,4,5, 'pika']\n",
        "list2=[6,7,8,9, 'pika']\n",
        "list3= list1+list2\n",
        "for item in list1:\n",
        "  if item in list2:\n",
        "    print(\"overlapping\")\n",
        "else:\n",
        "  print(\"not overlapping\")"
      ],
      "metadata": {
        "colab": {
          "base_uri": "https://localhost:8080/"
        },
        "id": "GFu55vR4YiNE",
        "outputId": "a7493051-d5d2-449f-8eca-49a2c8edcd64"
      },
      "execution_count": null,
      "outputs": [
        {
          "output_type": "stream",
          "name": "stdout",
          "text": [
            "overlapping\n",
            "not overlapping\n"
          ]
        }
      ]
    },
    {
      "cell_type": "code",
      "source": [
        "# Muestra 0,1,2,3,4\n",
        "count = 0\n",
        "while count < 5:\n",
        "  print(count)\n",
        "  count += 1 # count = count + 1"
      ],
      "metadata": {
        "colab": {
          "base_uri": "https://localhost:8080/"
        },
        "id": "Ng8nD4vPnOyo",
        "outputId": "ce2972d3-1a13-45b6-b377-a19b250beb68"
      },
      "execution_count": 31,
      "outputs": [
        {
          "output_type": "stream",
          "name": "stdout",
          "text": [
            "0\n",
            "1\n",
            "2\n",
            "3\n",
            "4\n"
          ]
        }
      ]
    },
    {
      "cell_type": "code",
      "source": [
        "pokemons = [\"Pikachu\", \"Squirtle\", \"Charmander\",]\n",
        "for pokemon in pokemons:\n",
        "  print(pokemon)"
      ],
      "metadata": {
        "colab": {
          "base_uri": "https://localhost:8080/"
        },
        "id": "TTU0RmCznzGy",
        "outputId": "ccd08162-7b57-4e63-bb74-c3bc2501c84f"
      },
      "execution_count": 32,
      "outputs": [
        {
          "output_type": "stream",
          "name": "stdout",
          "text": [
            "Pikachu\n",
            "Squirtle\n",
            "Charmander\n"
          ]
        }
      ]
    },
    {
      "cell_type": "code",
      "source": [
        "count = 0\n",
        "while True:\n",
        "  print(count)\n",
        "  count += 1\n",
        "  if count == 15:\n",
        "    break"
      ],
      "metadata": {
        "colab": {
          "base_uri": "https://localhost:8080/"
        },
        "id": "4TyYG4kMoBoi",
        "outputId": "9ccf0be7-029a-4695-ae88-419dfeac25b5"
      },
      "execution_count": 36,
      "outputs": [
        {
          "output_type": "stream",
          "name": "stdout",
          "text": [
            "0\n",
            "1\n",
            "2\n",
            "3\n",
            "4\n",
            "5\n",
            "6\n",
            "7\n",
            "8\n",
            "9\n",
            "10\n",
            "11\n",
            "12\n",
            "13\n",
            "14\n"
          ]
        }
      ]
    },
    {
      "cell_type": "code",
      "source": [
        "18%2 ==0"
      ],
      "metadata": {
        "colab": {
          "base_uri": "https://localhost:8080/"
        },
        "id": "Bo4mwAgtqG8B",
        "outputId": "12c23deb-d4ef-44d1-cdcc-3fc217f8f7da"
      },
      "execution_count": 41,
      "outputs": [
        {
          "output_type": "execute_result",
          "data": {
            "text/plain": [
              "True"
            ]
          },
          "metadata": {},
          "execution_count": 41
        }
      ]
    },
    {
      "cell_type": "markdown",
      "source": [
        "función módulo, números pares"
      ],
      "metadata": {
        "id": "zF9VeeprqLPQ"
      }
    },
    {
      "cell_type": "code",
      "source": [
        "semilla = 1213\n",
        "\n",
        "for i in range(3023):\n",
        "  # print(semilla)\n",
        "  n1 = semilla**2\n",
        "  n1 = str(n1)\n",
        "\n",
        "  if len(n1)>4:\n",
        "    n1 = int(n1[:4])\n",
        "  else:\n",
        "    n1 = int(n1[:-2][1:])\n",
        "  semilla = n1"
      ],
      "metadata": {
        "id": "rTLBCkgiwhZ1"
      },
      "execution_count": 72,
      "outputs": []
    },
    {
      "cell_type": "code",
      "source": [
        "semilla = 1213\n",
        "\n",
        "for i in range (4):\n",
        "  n1 = semilla**2\n",
        "  n1 = str(n1)\n",
        "\n",
        "  if len(n1)<8:\n",
        "      n1='0'+ n1\n",
        "      print(n1)"
      ],
      "metadata": {
        "colab": {
          "base_uri": "https://localhost:8080/"
        },
        "id": "0qqn8TxMwR2H",
        "outputId": "17edd650-5ad4-42c6-f633-114f821ff735"
      },
      "execution_count": 96,
      "outputs": [
        {
          "output_type": "stream",
          "name": "stdout",
          "text": [
            "01471369\n",
            "01471369\n",
            "01471369\n",
            "01471369\n"
          ]
        }
      ]
    }
  ]
}